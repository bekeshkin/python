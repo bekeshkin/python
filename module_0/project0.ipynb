{
 "cells": [
  {
   "cell_type": "code",
   "execution_count": 2,
   "metadata": {},
   "outputs": [
    {
     "name": "stdout",
     "output_type": "stream",
     "text": [
      "Ваш алгоритм угадывает число в среднем за 5 попыток\n"
     ]
    },
    {
     "data": {
      "text/plain": [
       "5"
      ]
     },
     "execution_count": 2,
     "metadata": {},
     "output_type": "execute_result"
    }
   ],
   "source": [
    "import numpy as np\n",
    "\n",
    "def score_game(game_core):\n",
    "    '''Запускаем игру 1000 раз, чтобы узнать, как быстро игра угадывает число'''\n",
    "    count_ls = []\n",
    "    np.random.seed(1)  # фиксируем RANDOM SEED, чтобы ваш эксперимент был воспроизводим!\n",
    "    random_array = np.random.randint(1,101, size=(1000))\n",
    "    for number in random_array:\n",
    "        count_ls.append(game_core(number))\n",
    "    score = int(np.mean(count_ls))\n",
    "    print(f\"Ваш алгоритм угадывает число в среднем за {score} попыток\")\n",
    "    return(score)\n",
    "\n",
    "def game_core_v3(number):\n",
    "    '''Задаем границы возможных доспутимых значений.\n",
    "       Получив середину отрезка, проверим, что данное число искомое, если нет, \n",
    "       то берем середину допустимого отрезка ниже или выше угаданного числа,\n",
    "       в зависимости от того больше или меньше загаданного числа\n",
    "       Функция принимает загаданное число и возвращает число попыток'''\n",
    "    count = 1\n",
    "    min_ = 0 #минимальная граница\n",
    "    max_ = 101 #максимальная граница\n",
    "    predict = int((max_ - min_) / 2) #получаем середину отрезка\n",
    "    while number != predict:\n",
    "        count+=1\n",
    "        if number > predict: \n",
    "            min_ = predict #смещаем минимаьную границу до текущей середины отрезка\n",
    "            predict = predict + int((max_ - min_) / 2) #получаем середину отрезка\n",
    "        elif number < predict: \n",
    "            max_ = predict #смещаем максимальную границу до текущей середины отрезка\n",
    "            predict = predict - int((max_ - min_) / 2) #получаем середину отрезка\n",
    "    return(count) # выход из цикла, если угадали\n",
    "\n",
    "score_game(game_core_v3)"
   ]
  },
  {
   "cell_type": "code",
   "execution_count": null,
   "metadata": {},
   "outputs": [],
   "source": []
  }
 ],
 "metadata": {
  "kernelspec": {
   "display_name": "Python 3",
   "language": "python",
   "name": "python3"
  },
  "language_info": {
   "codemirror_mode": {
    "name": "ipython",
    "version": 3
   },
   "file_extension": ".py",
   "mimetype": "text/x-python",
   "name": "python",
   "nbconvert_exporter": "python",
   "pygments_lexer": "ipython3",
   "version": "3.8.3"
  }
 },
 "nbformat": 4,
 "nbformat_minor": 4
}
